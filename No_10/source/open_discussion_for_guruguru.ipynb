{
 "cells": [
  {
   "cell_type": "markdown",
   "metadata": {},
   "source": [
    "## 何をしでかしたか\n",
    "- 今回の評価指標はRMSLE: sqrt(mean_squared_log_error)\n",
    "- 全て0で埋めたsubをすると、sqrt(mean((log1p(y))^2))が返ってくる。\n",
    "    - 今回は2.3799でした。\n",
    "- 正解データを持つ`train`でsqrt(mean((log1p(y))^2))を計算すると\n",
    "    - どうやら2.42くらい\n",
    "\n",
    "## 前提\n",
    "- PB/LBが半分ずつ(6004)でランダムに分けられている\n",
    "- trainを半分ずつにランダムにサンプリングしsqrt(mean((log1p(y))^2))を計算。\n",
    "  - これを20000回繰り返して「平均(正確には平均の2乗根)の分布」を計算。\n",
    "  - 2乗外せばmean((log1p(y))^2)なので、平均の分布として見ることができそう\n",
    "- train/testでmean(log1p(y))^2の分散は大体一緒\n",
    "  - ここの分散も推定したいけど多分だいたい同じくらいだと俺のスタンドが告げている\n",
    "- 中心極限定理を信じる\n",
    "\n",
    "## 結果\n",
    "- 中心極限定理によれば「標本平均の分布は大体正規分布になる」(この辺はググろう)  \n",
    "- testに対してがないが、中心極限定理で平均と分散は大体わかる  \n",
    "- trainよりもtestのほうが、全体の平均は小さめ。\n",
    "- testは全体的に0が多いか、trainより高評価な作品が少ない？\n",
    "  - これが分かると何がうれしいのかは不明。\n",
    "  - `likes`が高い作品ばかりに気を取られると足元すくわれそう。\n",
    "  - とはいえ予測値の最大値は見ておいて損はなさそう。\n",
    "  - PBに関しては何も教えてくれないが、trainのランダムな分割の結果からは  \n",
    "    そこまで大きく分布が乖離しているとは考えにくい\n",
    "    - つまりshakeはあんまり起こらないのではないか。ごあんしんできそう。\n",
    "\n",
    "## いつも応援してくれるみんなへ\n",
    "- これを勝手に\"metric hack\"と読んでます。\n",
    "  - コンペで色々コネコネして「平均」が出るようなタスクの場合、たまにLBの分布が推測できる場合がある\n",
    "- 公開するか迷ったけど上の結果はどう使えるか微妙だし、\n",
    "  - コンペの倫理的に公開しないほうが後悔しないかもしれない。これは私が背負う業である"
   ]
  },
  {
   "cell_type": "code",
   "execution_count": 1,
   "metadata": {},
   "outputs": [],
   "source": [
    "### つかうやつ\n",
    "from sklearn.metrics import mean_squared_log_error\n",
    "import matplotlib.pyplot as plt\n",
    "import random\n",
    "import numpy as np\n",
    "import pandas as pd"
   ]
  },
  {
   "cell_type": "code",
   "execution_count": 2,
   "metadata": {},
   "outputs": [],
   "source": [
    "# train\n",
    "train = pd.read_csv('./input/train.csv')\n",
    "train_likes = np.log1p(train['likes']) ** 2"
   ]
  },
  {
   "cell_type": "code",
   "execution_count": 3,
   "metadata": {},
   "outputs": [
    {
     "data": {
      "text/plain": [
       "2.4344823770103394"
      ]
     },
     "execution_count": 3,
     "metadata": {},
     "output_type": "execute_result"
    }
   ],
   "source": [
    "# trainをランダムに2分割してみる\n",
    "train_likes_LB = train_likes.sample(frac=0.5)\n",
    "# print(len(train_likes_LB))\n",
    "np.sqrt(np.mean(train_likes_LB))"
   ]
  },
  {
   "cell_type": "code",
   "execution_count": 4,
   "metadata": {},
   "outputs": [],
   "source": [
    "# trainでランダムサンプルを繰り返す。\n",
    "mean_result = []\n",
    "for i in range(20000):\n",
    "    seed = random.randint(0, 999)\n",
    "    train_likes_LB = train_likes.sample(frac=0.5)\n",
    "    # print(np.sqrt(np.mean(train_likes_LB)))\n",
    "    mean_result.append(np.mean(train_likes_LB))\n",
    "mean_of_mean = np.mean(mean_result)\n",
    "std_of_mean = np.std(mean_result)"
   ]
  },
  {
   "cell_type": "code",
   "execution_count": 5,
   "metadata": {},
   "outputs": [
    {
     "name": "stdout",
     "output_type": "stream",
     "text": [
      "log1p(y)の「平均の平均」: 5.888352112433509\n",
      "log1p(y)の「平均の標準偏差」:0.09833101240310463\n"
     ]
    },
    {
     "data": {
      "image/png": "[encoded data removed]",
      "text/plain": [
       "<Figure size 432x288 with 1 Axes>"
      ]
     },
     "metadata": {
      "needs_background": "light"
     },
     "output_type": "display_data"
    }
   ],
   "source": [
    "print(f'log1p(y)の「平均の平均」: {mean_of_mean}')\n",
    "print(f'log1p(y)の「平均の標準偏差」:{std_of_mean}')\n",
    "plt.hist(mean_result, bins=50)\n",
    "plt.show()"
   ]
  },
  {
   "cell_type": "code",
   "execution_count": 6,
   "metadata": {},
   "outputs": [],
   "source": [
    "# testは実際の値では計算できないので、\n",
    "# all 0 subとtrainの分散で乱数生成\n",
    "psuedo_test_dist = []\n",
    "for i in range(20000):\n",
    "    psuedo_test_dist.append(random.gauss(2.3799**2, std_of_mean))\n",
    "psuedo_test_mean = np.mean(psuedo_test_dist)\n",
    "psuedo_test_std = np.std(psuedo_test_dist)"
   ]
  },
  {
   "cell_type": "code",
   "execution_count": 7,
   "metadata": {},
   "outputs": [
    {
     "name": "stdout",
     "output_type": "stream",
     "text": [
      "testの平均の平均(の推計): 5.665214204051917\n",
      "testの平均の標準偏差(の推計): 0.09750330400948537\n"
     ]
    },
    {
     "data": {
      "image/png": "[encoded data removed]",
      "text/plain": [
       "<Figure size 432x288 with 1 Axes>"
      ]
     },
     "metadata": {
      "needs_background": "light"
     },
     "output_type": "display_data"
    }
   ],
   "source": [
    "print(f'testの平均の平均(の推計): {psuedo_test_mean}')\n",
    "print(f'testの平均の標準偏差(の推計): {psuedo_test_std}')\n",
    "\n",
    "plt.hist(mean_result, bins=50, label='train')\n",
    "plt.hist(psuedo_test_dist, bins=50, label='test')\n",
    "plt.legend()\n",
    "plt.show()"
   ]
  },
  {
   "cell_type": "markdown",
   "metadata": {},
   "source": [
    "# なるほど……"
   ]
  }
 ],
 "metadata": {
  "kernelspec": {
   "display_name": "Python 3.7.6 64-bit ('base': conda)",
   "language": "python",
   "name": "python37664bitbaseconda8ed0669b30504948a0c199bb82436091"
  },
  "language_info": {
   "codemirror_mode": {
    "name": "ipython",
    "version": 3
   },
   "file_extension": ".py",
   "mimetype": "text/x-python",
   "name": "python",
   "nbconvert_exporter": "python",
   "pygments_lexer": "ipython3",
   "version": "3.7.6"
  }
 },
 "nbformat": 4,
 "nbformat_minor": 2
}
